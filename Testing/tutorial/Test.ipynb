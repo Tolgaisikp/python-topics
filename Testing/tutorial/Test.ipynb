{
  "cells": [
    {
      "cell_type": "markdown",
      "metadata": {
        "id": "oz2rP2uyBY2e"
      },
      "source": [
        "# 1. Manual Testing"
      ]
    },
    {
      "cell_type": "code",
      "execution_count": 5,
      "metadata": {
        "id": "-qJ43pJB42RQ"
      },
      "outputs": [],
      "source": [
        "assert sum([1,4,5]) == 10, \"Should be 10\""
      ]
    },
    {
      "cell_type": "code",
      "execution_count": 6,
      "metadata": {
        "id": "vHHoOOvN6asq"
      },
      "outputs": [],
      "source": [
        "#yanlışsa hata verir"
      ]
    },
    {
      "cell_type": "code",
      "execution_count": 7,
      "metadata": {
        "colab": {
          "base_uri": "https://localhost:8080/",
          "height": 165
        },
        "id": "mLE_rrXV5feh",
        "outputId": "009631c9-60cf-4b4e-b40b-e466db08cdeb"
      },
      "outputs": [
        {
          "ename": "AssertionError",
          "evalue": "Should be 10",
          "output_type": "error",
          "traceback": [
            "\u001b[1;31m---------------------------------------------------------------------------\u001b[0m",
            "\u001b[1;31mAssertionError\u001b[0m                            Traceback (most recent call last)",
            "\u001b[1;32m<ipython-input-7-18854975a151>\u001b[0m in \u001b[0;36m<module>\u001b[1;34m\u001b[0m\n\u001b[1;32m----> 1\u001b[1;33m \u001b[1;32massert\u001b[0m \u001b[0msum\u001b[0m\u001b[1;33m(\u001b[0m\u001b[1;33m[\u001b[0m\u001b[1;36m1\u001b[0m\u001b[1;33m,\u001b[0m\u001b[1;36m4\u001b[0m\u001b[1;33m,\u001b[0m\u001b[1;36m5\u001b[0m\u001b[1;33m]\u001b[0m\u001b[1;33m)\u001b[0m \u001b[1;33m==\u001b[0m \u001b[1;36m11\u001b[0m\u001b[1;33m,\u001b[0m \u001b[1;34m\"Should be 10\"\u001b[0m\u001b[1;33m\u001b[0m\u001b[1;33m\u001b[0m\u001b[0m\n\u001b[0m",
            "\u001b[1;31mAssertionError\u001b[0m: Should be 10"
          ]
        }
      ],
      "source": [
        "assert sum([1,4,5]) == 11, \"Should be 10\""
      ]
    },
    {
      "cell_type": "code",
      "execution_count": 8,
      "metadata": {
        "colab": {
          "base_uri": "https://localhost:8080/"
        },
        "id": "bxxFWDMu5uNd",
        "outputId": "705f4d7d-13e9-44de-a6ec-fcd458e27581"
      },
      "outputs": [
        {
          "name": "stdout",
          "output_type": "stream",
          "text": [
            "Everything passed\n"
          ]
        }
      ],
      "source": [
        "def test_sum():\n",
        "  assert sum([1,2,3]) == 6, 'should be 6'\n",
        "\n",
        "\n",
        "if __name__ == '__main__':\n",
        "  test_sum()\n",
        "  print('Everything passed')"
      ]
    },
    {
      "cell_type": "code",
      "execution_count": 9,
      "metadata": {
        "id": "TDoxkLDk6Fcp"
      },
      "outputs": [],
      "source": [
        "#test tuple and array"
      ]
    },
    {
      "cell_type": "code",
      "execution_count": 10,
      "metadata": {
        "colab": {
          "base_uri": "https://localhost:8080/",
          "height": 338
        },
        "id": "SwHnJ-9j6_Cq",
        "outputId": "a6b9e7e4-81d7-449d-b5d6-3bf03fcb98e6"
      },
      "outputs": [
        {
          "ename": "AssertionError",
          "evalue": "Should be 6",
          "output_type": "error",
          "traceback": [
            "\u001b[1;31m---------------------------------------------------------------------------\u001b[0m",
            "\u001b[1;31mAssertionError\u001b[0m                            Traceback (most recent call last)",
            "\u001b[1;32m<ipython-input-10-fc3e8a867025>\u001b[0m in \u001b[0;36m<module>\u001b[1;34m\u001b[0m\n\u001b[0;32m      7\u001b[0m \u001b[1;32mif\u001b[0m \u001b[0m__name__\u001b[0m \u001b[1;33m==\u001b[0m \u001b[1;34m\"__main__\"\u001b[0m\u001b[1;33m:\u001b[0m\u001b[1;33m\u001b[0m\u001b[1;33m\u001b[0m\u001b[0m\n\u001b[0;32m      8\u001b[0m     \u001b[0mtest_sum\u001b[0m\u001b[1;33m(\u001b[0m\u001b[1;33m)\u001b[0m\u001b[1;33m\u001b[0m\u001b[1;33m\u001b[0m\u001b[0m\n\u001b[1;32m----> 9\u001b[1;33m     \u001b[0mtest_sum_tuple\u001b[0m\u001b[1;33m(\u001b[0m\u001b[1;33m)\u001b[0m\u001b[1;33m\u001b[0m\u001b[1;33m\u001b[0m\u001b[0m\n\u001b[0m\u001b[0;32m     10\u001b[0m     \u001b[0mprint\u001b[0m\u001b[1;33m(\u001b[0m\u001b[1;34m\"Everything passed\"\u001b[0m\u001b[1;33m)\u001b[0m\u001b[1;33m\u001b[0m\u001b[1;33m\u001b[0m\u001b[0m\n",
            "\u001b[1;32m<ipython-input-10-fc3e8a867025>\u001b[0m in \u001b[0;36mtest_sum_tuple\u001b[1;34m()\u001b[0m\n\u001b[0;32m      3\u001b[0m \u001b[1;33m\u001b[0m\u001b[0m\n\u001b[0;32m      4\u001b[0m \u001b[1;32mdef\u001b[0m \u001b[0mtest_sum_tuple\u001b[0m\u001b[1;33m(\u001b[0m\u001b[1;33m)\u001b[0m\u001b[1;33m:\u001b[0m\u001b[1;33m\u001b[0m\u001b[1;33m\u001b[0m\u001b[0m\n\u001b[1;32m----> 5\u001b[1;33m     \u001b[1;32massert\u001b[0m \u001b[0msum\u001b[0m\u001b[1;33m(\u001b[0m\u001b[1;33m(\u001b[0m\u001b[1;36m1\u001b[0m\u001b[1;33m,\u001b[0m \u001b[1;36m2\u001b[0m\u001b[1;33m,\u001b[0m \u001b[1;36m2\u001b[0m\u001b[1;33m)\u001b[0m\u001b[1;33m)\u001b[0m \u001b[1;33m==\u001b[0m \u001b[1;36m6\u001b[0m\u001b[1;33m,\u001b[0m \u001b[1;34m\"Should be 6\"\u001b[0m\u001b[1;33m\u001b[0m\u001b[1;33m\u001b[0m\u001b[0m\n\u001b[0m\u001b[0;32m      6\u001b[0m \u001b[1;33m\u001b[0m\u001b[0m\n\u001b[0;32m      7\u001b[0m \u001b[1;32mif\u001b[0m \u001b[0m__name__\u001b[0m \u001b[1;33m==\u001b[0m \u001b[1;34m\"__main__\"\u001b[0m\u001b[1;33m:\u001b[0m\u001b[1;33m\u001b[0m\u001b[1;33m\u001b[0m\u001b[0m\n",
            "\u001b[1;31mAssertionError\u001b[0m: Should be 6"
          ]
        }
      ],
      "source": [
        "def test_sum():\n",
        "    assert sum([1, 2, 3]) == 6, \"Should be 6\"\n",
        "\n",
        "def test_sum_tuple():\n",
        "    assert sum((1, 2, 2)) == 6, \"Should be 6\"\n",
        "\n",
        "if __name__ == \"__main__\":\n",
        "    test_sum()\n",
        "    test_sum_tuple()\n",
        "    print(\"Everything passed\")"
      ]
    },
    {
      "cell_type": "markdown",
      "metadata": {
        "id": "OmOilz8ABnoX"
      },
      "source": [
        "# 2. Automated Testing (Test Runner)"
      ]
    },
    {
      "cell_type": "markdown",
      "metadata": {
        "id": "gZLnbb5oEgZn"
      },
      "source": [
        "## 2.1 unittest"
      ]
    },
    {
      "cell_type": "code",
      "execution_count": 14,
      "metadata": {
        "id": "tzmT1j4r6Huq"
      },
      "outputs": [],
      "source": [
        "import unittest"
      ]
    },
    {
      "cell_type": "code",
      "execution_count": 15,
      "metadata": {
        "id": "M7mO90-yF3sl"
      },
      "outputs": [],
      "source": [
        "class TestSum(unittest.TestCase):\n",
        "\n",
        "    def test_sum(self):\n",
        "        self.assertEqual(sum([1, 2, 3]), 6, \"Should be 6\")\n",
        "\n",
        "    def test_sum_tuple(self):\n",
        "        self.assertEqual(sum((1, 2, 2)), 6, \"Should be 6\")"
      ]
    },
    {
      "cell_type": "code",
      "execution_count": null,
      "metadata": {
        "colab": {
          "base_uri": "https://localhost:8080/",
          "height": 322
        },
        "id": "Cgj5ZP3YF8ru",
        "outputId": "ee8aca32-345e-4edd-8a00-cac87727f50e"
      },
      "outputs": [],
      "source": [
        "if __name__ == '__main__':\n",
        "    #unittest.main()"
      ]
    },
    {
      "cell_type": "code",
      "execution_count": 27,
      "metadata": {},
      "outputs": [
        {
          "name": "stderr",
          "output_type": "stream",
          "text": [
            ".F\n",
            "======================================================================\n",
            "FAIL: test_sum_tup (__main__.TestSum)\n",
            "----------------------------------------------------------------------\n",
            "Traceback (most recent call last):\n",
            "  File \"unittestTutorial.py\", line 8, in test_sum_tup\n",
            "    self.assertEqual(sum((1,2,2)), 6, 'should be 6')\n",
            "AssertionError: 5 != 6 : should be 6\n",
            "\n",
            "----------------------------------------------------------------------\n",
            "Ran 2 tests in 0.001s\n",
            "\n",
            "FAILED (failures=1)\n"
          ]
        }
      ],
      "source": [
        "!python unittestTutorial.py"
      ]
    },
    {
      "cell_type": "markdown",
      "metadata": {},
      "source": [
        "## 2.2 nose"
      ]
    },
    {
      "cell_type": "code",
      "execution_count": null,
      "metadata": {},
      "outputs": [],
      "source": [
        "%pip install nose2"
      ]
    },
    {
      "cell_type": "code",
      "execution_count": 40,
      "metadata": {},
      "outputs": [
        {
          "name": "stderr",
          "output_type": "stream",
          "text": [
            "\n",
            "----------------------------------------------------------------------\n",
            "Ran 0 tests in 0.000s\n",
            "\n",
            "OK\n"
          ]
        }
      ],
      "source": [
        "!python -m nose2 #not working because test_ not added"
      ]
    },
    {
      "cell_type": "code",
      "execution_count": 39,
      "metadata": {},
      "outputs": [
        {
          "name": "stderr",
          "output_type": "stream",
          "text": [
            ".F\n",
            "======================================================================\n",
            "FAIL: test_sum_tup (__main__.TestSum)\n",
            "----------------------------------------------------------------------\n",
            "Traceback (most recent call last):\n",
            "  File \"nose2Tutorial.py\", line 9, in test_sum_tup\n",
            "    self.assertEqual(sum((1,2,2)), 6, 'should be 6')\n",
            "AssertionError: 5 != 6 : should be 6\n",
            "\n",
            "----------------------------------------------------------------------\n",
            "Ran 2 tests in 0.000s\n",
            "\n",
            "FAILED (failures=1)\n"
          ]
        }
      ],
      "source": [
        "!python nose2Tutorial.py"
      ]
    },
    {
      "cell_type": "markdown",
      "metadata": {},
      "source": [
        "## 2.3 pytest"
      ]
    },
    {
      "cell_type": "code",
      "execution_count": 60,
      "metadata": {},
      "outputs": [
        {
          "name": "stdout",
          "output_type": "stream",
          "text": [
            "F                                                                        [100%]\n",
            "================================== FAILURES ===================================\n",
            "_________________________________ test_answer _________________________________\n",
            "\n",
            "    def test_answer():\n",
            ">           assert inc(3) == 5\n",
            "E           assert 4 == 5\n",
            "E            +  where 4 = inc(3)\n",
            "\n",
            "pytestTutorial.py:8: AssertionError\n",
            "=========================== short test summary info ===========================\n",
            "FAILED pytestTutorial.py::test_answer - assert 4 == 5\n",
            "1 failed in 0.14s\n"
          ]
        }
      ],
      "source": [
        "!pytest -q pytestTutorial.py"
      ]
    },
    {
      "cell_type": "code",
      "execution_count": null,
      "metadata": {},
      "outputs": [],
      "source": [
        "!pytest #not working because test_ not added"
      ]
    }
  ],
  "metadata": {
    "colab": {
      "collapsed_sections": [],
      "name": "Test.ipynb",
      "provenance": []
    },
    "kernelspec": {
      "display_name": "venv",
      "language": "python",
      "name": "venv"
    },
    "language_info": {
      "codemirror_mode": {
        "name": "ipython",
        "version": 3
      },
      "file_extension": ".py",
      "mimetype": "text/x-python",
      "name": "python",
      "nbconvert_exporter": "python",
      "pygments_lexer": "ipython3",
      "version": "3.8.8"
    }
  },
  "nbformat": 4,
  "nbformat_minor": 0
}
