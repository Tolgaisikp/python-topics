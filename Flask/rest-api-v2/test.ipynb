{
 "cells": [
  {
   "cell_type": "code",
   "execution_count": 1,
   "metadata": {},
   "outputs": [],
   "source": [
    "def decorator(func):\n",
    "    def wrapper(*args, **kwargs):\n",
    "        print('Fonksiyon çalışacak...')\n",
    "        func()\n",
    "    return wrapper\n",
    "\n",
    "\n",
    "@decorator\n",
    "def test():\n",
    "    print('Fonksiyon çalıştı.')"
   ]
  },
  {
   "cell_type": "code",
   "execution_count": null,
   "metadata": {},
   "outputs": [],
   "source": []
  },
  {
   "cell_type": "code",
   "execution_count": null,
   "metadata": {},
   "outputs": [],
   "source": []
  },
  {
   "cell_type": "code",
   "execution_count": 2,
   "metadata": {},
   "outputs": [],
   "source": [
    "class User(object):\n",
    "    is_active = True\n",
    "\n",
    "    def __init__(self, name, permissions):\n",
    "        \"\"\"\n",
    "        :param name: string\n",
    "        :param permissions: list\n",
    "        \"\"\"\n",
    "        self.name = name\n",
    "        self.permissions = permissions"
   ]
  },
  {
   "cell_type": "code",
   "execution_count": 3,
   "metadata": {},
   "outputs": [],
   "source": [
    "def has_permission(permission):\n",
    "    def decorator(func):\n",
    "        def wrapper(*args, **kwargs):\n",
    "            user = ('user')\n",
    "            assert permission in user.permissions\n",
    "\n",
    "            result = func(*args, **kwargs)\n",
    "            return result\n",
    "\n",
    "        return wrapper\n",
    "\n",
    "    return decorator"
   ]
  },
  {
   "cell_type": "code",
   "execution_count": 4,
   "metadata": {},
   "outputs": [],
   "source": [
    "@has_permission('can_view_dashboard')\n",
    "def view_dashboard(**kwargs):\n",
    "    user = kwargs.pop('user')\n",
    "\n",
    "    print('\\n- DASHBOARD')\n",
    "    print('- Merhaba {username}, giriş başarılı.'.format(\n",
    "        username=user.name\n",
    "    ))"
   ]
  },
  {
   "cell_type": "code",
   "execution_count": 5,
   "metadata": {},
   "outputs": [
    {
     "name": "stdout",
     "output_type": "stream",
     "text": [
      "\n",
      "- DASHBOARD\n",
      "- Merhaba umutcoskun, giriş başarılı.\n"
     ]
    }
   ],
   "source": [
    "user = User('umutcoskun', ['can_view_dashboard'])\n",
    "view_dashboard(user=user)"
   ]
  },
  {
   "cell_type": "code",
   "execution_count": 6,
   "metadata": {},
   "outputs": [
    {
     "data": {
      "text/plain": [
       "<__main__.User at 0x20b20cfb340>"
      ]
     },
     "execution_count": 6,
     "metadata": {},
     "output_type": "execute_result"
    }
   ],
   "source": [
    "User('umutcoskun', ['can_view_dashboard'])"
   ]
  },
  {
   "cell_type": "code",
   "execution_count": null,
   "metadata": {},
   "outputs": [],
   "source": []
  }
 ],
 "metadata": {
  "kernelspec": {
   "display_name": "Python 3.9.12 ('base')",
   "language": "python",
   "name": "python3"
  },
  "language_info": {
   "codemirror_mode": {
    "name": "ipython",
    "version": 3
   },
   "file_extension": ".py",
   "mimetype": "text/x-python",
   "name": "python",
   "nbconvert_exporter": "python",
   "pygments_lexer": "ipython3",
   "version": "3.9.12"
  },
  "orig_nbformat": 4,
  "vscode": {
   "interpreter": {
    "hash": "31cf15fed92e62aa7d6778408617ff39bdc085f4cc3c18f2308b69b9b1d0f755"
   }
  }
 },
 "nbformat": 4,
 "nbformat_minor": 2
}
