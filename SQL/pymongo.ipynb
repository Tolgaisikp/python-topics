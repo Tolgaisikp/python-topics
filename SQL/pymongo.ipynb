{
 "cells": [
  {
   "cell_type": "code",
   "execution_count": 44,
   "metadata": {},
   "outputs": [],
   "source": [
    "import pymongo\n",
    "import pandas as pd\n",
    "import numpy as np \n",
    "from pymongo.mongo_client import MongoClient\n"
   ]
  },
  {
   "cell_type": "code",
   "execution_count": 55,
   "metadata": {},
   "outputs": [
    {
     "data": {
      "text/html": [
       "<div>\n",
       "<style scoped>\n",
       "    .dataframe tbody tr th:only-of-type {\n",
       "        vertical-align: middle;\n",
       "    }\n",
       "\n",
       "    .dataframe tbody tr th {\n",
       "        vertical-align: top;\n",
       "    }\n",
       "\n",
       "    .dataframe thead th {\n",
       "        text-align: right;\n",
       "    }\n",
       "</style>\n",
       "<table border=\"1\" class=\"dataframe\">\n",
       "  <thead>\n",
       "    <tr style=\"text-align: right;\">\n",
       "      <th></th>\n",
       "      <th>_id</th>\n",
       "      <th>name</th>\n",
       "      <th>dept</th>\n",
       "    </tr>\n",
       "  </thead>\n",
       "  <tbody>\n",
       "    <tr>\n",
       "      <th>0</th>\n",
       "      <td>629b9b81aa25b251c4f03d28</td>\n",
       "      <td>Samet</td>\n",
       "      <td>ADMIN</td>\n",
       "    </tr>\n",
       "    <tr>\n",
       "      <th>1</th>\n",
       "      <td>629b9b8eaa25b251c4f03d29</td>\n",
       "      <td>Hüseyin</td>\n",
       "      <td>HR</td>\n",
       "    </tr>\n",
       "    <tr>\n",
       "      <th>2</th>\n",
       "      <td>629b9b97aa25b251c4f03d2a</td>\n",
       "      <td>İkbal</td>\n",
       "      <td>IT</td>\n",
       "    </tr>\n",
       "    <tr>\n",
       "      <th>3</th>\n",
       "      <td>629b9ba0aa25b251c4f03d2b</td>\n",
       "      <td>Tolga</td>\n",
       "      <td>IT</td>\n",
       "    </tr>\n",
       "  </tbody>\n",
       "</table>\n",
       "</div>"
      ],
      "text/plain": [
       "                        _id     name   dept\n",
       "0  629b9b81aa25b251c4f03d28    Samet  ADMIN\n",
       "1  629b9b8eaa25b251c4f03d29  Hüseyin     HR\n",
       "2  629b9b97aa25b251c4f03d2a    İkbal     IT\n",
       "3  629b9ba0aa25b251c4f03d2b    Tolga     IT"
      ]
     },
     "execution_count": 55,
     "metadata": {},
     "output_type": "execute_result"
    }
   ],
   "source": [
    "client = MongoClient('localhost', 27017)\n",
    "\n",
    "schoolDB = client['SCHOOL'] # SCHOOL DATABASE\n",
    "studentCol = schoolDB['Student'] # Student Collection\n",
    "studentList = studentCol.find() #\n",
    "\n",
    "students = pd.DataFrame(list(studentList))\n",
    "\n",
    "students.head()"
   ]
  },
  {
   "cell_type": "code",
   "execution_count": 56,
   "metadata": {},
   "outputs": [
    {
     "data": {
      "text/plain": [
       "['Student']"
      ]
     },
     "execution_count": 56,
     "metadata": {},
     "output_type": "execute_result"
    }
   ],
   "source": [
    "schoolDB.list_collection_names()"
   ]
  },
  {
   "cell_type": "code",
   "execution_count": 60,
   "metadata": {},
   "outputs": [
    {
     "data": {
      "text/plain": [
       "ObjectId('629b9daff5e041c108c67265')"
      ]
     },
     "execution_count": 60,
     "metadata": {},
     "output_type": "execute_result"
    }
   ],
   "source": [
    "studentCol.insert_one({'name':'Kerem', 'dept': 'IT'}).inserted_id"
   ]
  },
  {
   "cell_type": "code",
   "execution_count": 61,
   "metadata": {},
   "outputs": [
    {
     "data": {
      "text/html": [
       "<div>\n",
       "<style scoped>\n",
       "    .dataframe tbody tr th:only-of-type {\n",
       "        vertical-align: middle;\n",
       "    }\n",
       "\n",
       "    .dataframe tbody tr th {\n",
       "        vertical-align: top;\n",
       "    }\n",
       "\n",
       "    .dataframe thead th {\n",
       "        text-align: right;\n",
       "    }\n",
       "</style>\n",
       "<table border=\"1\" class=\"dataframe\">\n",
       "  <thead>\n",
       "    <tr style=\"text-align: right;\">\n",
       "      <th></th>\n",
       "      <th>_id</th>\n",
       "      <th>name</th>\n",
       "      <th>dept</th>\n",
       "    </tr>\n",
       "  </thead>\n",
       "  <tbody>\n",
       "    <tr>\n",
       "      <th>0</th>\n",
       "      <td>629b9b81aa25b251c4f03d28</td>\n",
       "      <td>Samet</td>\n",
       "      <td>ADMIN</td>\n",
       "    </tr>\n",
       "    <tr>\n",
       "      <th>1</th>\n",
       "      <td>629b9b8eaa25b251c4f03d29</td>\n",
       "      <td>Hüseyin</td>\n",
       "      <td>HR</td>\n",
       "    </tr>\n",
       "    <tr>\n",
       "      <th>2</th>\n",
       "      <td>629b9b97aa25b251c4f03d2a</td>\n",
       "      <td>İkbal</td>\n",
       "      <td>IT</td>\n",
       "    </tr>\n",
       "    <tr>\n",
       "      <th>3</th>\n",
       "      <td>629b9ba0aa25b251c4f03d2b</td>\n",
       "      <td>Tolga</td>\n",
       "      <td>IT</td>\n",
       "    </tr>\n",
       "    <tr>\n",
       "      <th>4</th>\n",
       "      <td>629b9daff5e041c108c67265</td>\n",
       "      <td>Kerem</td>\n",
       "      <td>IT</td>\n",
       "    </tr>\n",
       "  </tbody>\n",
       "</table>\n",
       "</div>"
      ],
      "text/plain": [
       "                        _id     name   dept\n",
       "0  629b9b81aa25b251c4f03d28    Samet  ADMIN\n",
       "1  629b9b8eaa25b251c4f03d29  Hüseyin     HR\n",
       "2  629b9b97aa25b251c4f03d2a    İkbal     IT\n",
       "3  629b9ba0aa25b251c4f03d2b    Tolga     IT\n",
       "4  629b9daff5e041c108c67265    Kerem     IT"
      ]
     },
     "execution_count": 61,
     "metadata": {},
     "output_type": "execute_result"
    }
   ],
   "source": [
    "client = MongoClient('localhost', 27017)\n",
    "\n",
    "schoolDB = client['SCHOOL'] # SCHOOL DATABASE\n",
    "studentCol = schoolDB['Student'] # Student Collection\n",
    "studentList = studentCol.find() #\n",
    "\n",
    "students = pd.DataFrame(list(studentList))\n",
    "\n",
    "students.head()"
   ]
  }
 ],
 "metadata": {
  "interpreter": {
   "hash": "7f604dd1429da0cffe63df0062a6a565cf67a43851ca0f7adf0b7ba7619f3df0"
  },
  "kernelspec": {
   "display_name": "Python 3.9.12 ('ds_env')",
   "language": "python",
   "name": "python3"
  },
  "language_info": {
   "codemirror_mode": {
    "name": "ipython",
    "version": 3
   },
   "file_extension": ".py",
   "mimetype": "text/x-python",
   "name": "python",
   "nbconvert_exporter": "python",
   "pygments_lexer": "ipython3",
   "version": "3.9.12"
  },
  "orig_nbformat": 4
 },
 "nbformat": 4,
 "nbformat_minor": 2
}
