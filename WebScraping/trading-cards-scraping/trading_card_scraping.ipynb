{
 "cells": [
  {
   "cell_type": "code",
   "execution_count": 162,
   "metadata": {},
   "outputs": [],
   "source": [
    "import requests\n",
    "import cssutils\n",
    "from bs4 import BeautifulSoup\n",
    "import os\n",
    "import json\n",
    "import pandas as pd"
   ]
  },
  {
   "cell_type": "code",
   "execution_count": 164,
   "metadata": {},
   "outputs": [],
   "source": [
    "df_all = pd.DataFrame()\n",
    "\n",
    "for i in range(1,842):\n",
    "    url = f\"https://swtcg.com/Cards?page={i}\"\n",
    "    req = requests.get(url)\n",
    "\n",
    "    soup = BeautifulSoup(req.text, 'html.parser')\n",
    "    conten = soup.find('table', {'id': 'MVCGridTable_CardGrid'})#.find(\"tbody\")#.find('span', {'class':\"font-weight-bold\"})#tablodaki her bir oyun için\n",
    "    df = pd.read_html(str(conten))[0]\n",
    "\n",
    "    side = []\n",
    "    expansion = []\n",
    "\n",
    "    for idx, i in enumerate(range(0, len(test), 2)):\n",
    "        if idx % 2:\n",
    "            side.append(test[i].find('img')['alt'])\n",
    "        else:\n",
    "            expansion.append(test[i].find('img')['alt'])\n",
    "\n",
    "    df['Side'] = pd.Series(side)\n",
    "    df['Expansion'] = pd.Series(expansion)\n",
    "\n",
    "    df_all = pd.concat([df_all, df])\n",
    "\n",
    "df_all.rename(columns = {'Unnamed: 6':'Cost', 'Unnamed: 7':'Speed', 'Unnamed: 8':'Power', 'Unnamed: 9':'Health', 'Unnamed: 10':'Image'}, inplace = True)\n",
    "df_all['Name'] = df_all['Name'].str.replace(\" B R\",\"\")\n",
    "df_all.reset_index(drop=True, inplace=True)"
   ]
  },
  {
   "cell_type": "code",
   "execution_count": 167,
   "metadata": {},
   "outputs": [
    {
     "data": {
      "text/plain": [
       "32"
      ]
     },
     "execution_count": 167,
     "metadata": {},
     "output_type": "execute_result"
    }
   ],
   "source": []
  },
  {
   "cell_type": "code",
   "execution_count": 168,
   "metadata": {},
   "outputs": [
    {
     "name": "stdout",
     "output_type": "stream",
     "text": [
      "40\n",
      "[<span class=\"px-1\"><img alt=\"D\" class=\"d-inline-block\" src=\"/Content/Images/Icons/D.png\" style=\"width:1rem;height:auto;\" title=\"D\"/></span>, <span class=\"px-1\"><img alt=\"15TH\" class=\"d-inline-block\" src=\"/Content/Images/Icons/15TH.png\" style=\"width:1rem;height:auto;\" title=\"15TH\"/></span>, <span class=\"px-1\"><img alt=\"15th Anniversary\" class=\"d-inline-block\" src=\"/Content/Images/Icons/15TH.png\" style=\"width:1rem;height:auto;\" title=\"15th Anniversary\"/></span>, <span class=\"px-1\"><img alt=\"Dark\" class=\"d-inline-block\" src=\"/Content/Images/Icons/D.png\" style=\"width:1rem;height:auto;\" title=\"Dark\"/></span>, <span class=\"px-1\"><img alt=\"L\" class=\"d-inline-block\" src=\"/Content/Images/Icons/L.png\" style=\"width:1rem;height:auto;\" title=\"L\"/></span>, <span class=\"px-1\"><img alt=\"AGD\" class=\"d-inline-block\" src=\"/Content/Images/Icons/AGD.png\" style=\"width:1rem;height:auto;\" title=\"AGD\"/></span>, <span class=\"px-1\"><img alt=\"Clone Wars: A Galaxy Divided\" class=\"d-inline-block\" src=\"/Content/Images/Icons/AGD.png\" style=\"width:1rem;height:auto;\" title=\"Clone Wars: A Galaxy Divided\"/></span>, <span class=\"px-1\"><img alt=\"Light\" class=\"d-inline-block\" src=\"/Content/Images/Icons/L.png\" style=\"width:1rem;height:auto;\" title=\"Light\"/></span>, <span class=\"px-1\"><img alt=\"D\" class=\"d-inline-block\" src=\"/Content/Images/Icons/D.png\" style=\"width:1rem;height:auto;\" title=\"D\"/></span>, <span class=\"px-1\"><img alt=\"SOLO\" class=\"d-inline-block\" src=\"/Content/Images/Icons/SOLO.png\" style=\"width:1rem;height:auto;\" title=\"SOLO\"/></span>, <span class=\"px-1\"><img alt=\"Solo\" class=\"d-inline-block\" src=\"/Content/Images/Icons/SOLO.png\" style=\"width:1rem;height:auto;\" title=\"Solo\"/></span>, <span class=\"px-1\"><img alt=\"Dark\" class=\"d-inline-block\" src=\"/Content/Images/Icons/D.png\" style=\"width:1rem;height:auto;\" title=\"Dark\"/></span>, <span class=\"px-1\"><img alt=\"D\" class=\"d-inline-block\" src=\"/Content/Images/Icons/D.png\" style=\"width:1rem;height:auto;\" title=\"D\"/></span>, <span class=\"px-1\"><img alt=\"BOE\" class=\"d-inline-block\" src=\"/Content/Images/Icons/BOE.png\" style=\"width:1rem;height:auto;\" title=\"BOE\"/></span>, <span class=\"px-1\"><img alt=\"Battle of Endor\" class=\"d-inline-block\" src=\"/Content/Images/Icons/BOE.png\" style=\"width:1rem;height:auto;\" title=\"Battle of Endor\"/></span>, <span class=\"px-1\"><img alt=\"Dark\" class=\"d-inline-block\" src=\"/Content/Images/Icons/D.png\" style=\"width:1rem;height:auto;\" title=\"Dark\"/></span>, <span class=\"px-1\"><img alt=\"D\" class=\"d-inline-block\" src=\"/Content/Images/Icons/D.png\" style=\"width:1rem;height:auto;\" title=\"D\"/></span>, <span class=\"px-1\"><img alt=\"RS\" class=\"d-inline-block\" src=\"/Content/Images/Icons/RS.png\" style=\"width:1rem;height:auto;\" title=\"RS\"/></span>, <span class=\"px-1\"><img alt=\"Rogue Squadron\" class=\"d-inline-block\" src=\"/Content/Images/Icons/RS.png\" style=\"width:1rem;height:auto;\" title=\"Rogue Squadron\"/></span>, <span class=\"px-1\"><img alt=\"Dark\" class=\"d-inline-block\" src=\"/Content/Images/Icons/D.png\" style=\"width:1rem;height:auto;\" title=\"Dark\"/></span>, <span class=\"px-1\"><img alt=\"D\" class=\"d-inline-block\" src=\"/Content/Images/Icons/D.png\" style=\"width:1rem;height:auto;\" title=\"D\"/></span>, <span class=\"px-1\"><img alt=\"RS\" class=\"d-inline-block\" src=\"/Content/Images/Icons/RS.png\" style=\"width:1rem;height:auto;\" title=\"RS\"/></span>, <span class=\"px-1\"><img alt=\"Rogue Squadron\" class=\"d-inline-block\" src=\"/Content/Images/Icons/RS.png\" style=\"width:1rem;height:auto;\" title=\"Rogue Squadron\"/></span>, <span class=\"px-1\"><img alt=\"Dark\" class=\"d-inline-block\" src=\"/Content/Images/Icons/D.png\" style=\"width:1rem;height:auto;\" title=\"Dark\"/></span>, <span class=\"px-1\"><img alt=\"D\" class=\"d-inline-block\" src=\"/Content/Images/Icons/D.png\" style=\"width:1rem;height:auto;\" title=\"D\"/></span>, <span class=\"px-1\"><img alt=\"SOLO\" class=\"d-inline-block\" src=\"/Content/Images/Icons/SOLO.png\" style=\"width:1rem;height:auto;\" title=\"SOLO\"/></span>, <span class=\"px-1\"><img alt=\"Solo\" class=\"d-inline-block\" src=\"/Content/Images/Icons/SOLO.png\" style=\"width:1rem;height:auto;\" title=\"Solo\"/></span>, <span class=\"px-1\"><img alt=\"Dark\" class=\"d-inline-block\" src=\"/Content/Images/Icons/D.png\" style=\"width:1rem;height:auto;\" title=\"Dark\"/></span>, <span class=\"px-1\"><img alt=\"D\" class=\"d-inline-block\" src=\"/Content/Images/Icons/D.png\" style=\"width:1rem;height:auto;\" title=\"D\"/></span>, <span class=\"px-1\"><img alt=\"SOLO\" class=\"d-inline-block\" src=\"/Content/Images/Icons/SOLO.png\" style=\"width:1rem;height:auto;\" title=\"SOLO\"/></span>, <span class=\"px-1\"><img alt=\"Solo\" class=\"d-inline-block\" src=\"/Content/Images/Icons/SOLO.png\" style=\"width:1rem;height:auto;\" title=\"Solo\"/></span>, <span class=\"px-1\"><img alt=\"Dark\" class=\"d-inline-block\" src=\"/Content/Images/Icons/D.png\" style=\"width:1rem;height:auto;\" title=\"Dark\"/></span>, <span class=\"px-1\"><img alt=\"L\" class=\"d-inline-block\" src=\"/Content/Images/Icons/L.png\" style=\"width:1rem;height:auto;\" title=\"L\"/></span>, <span class=\"px-1\"><img alt=\"CAD\" class=\"d-inline-block\" src=\"/Content/Images/Icons/CAD.png\" style=\"width:1rem;height:auto;\" title=\"CAD\"/></span>, <span class=\"px-1\"><img alt=\"Clones and Droids\" class=\"d-inline-block\" src=\"/Content/Images/Icons/CAD.png\" style=\"width:1rem;height:auto;\" title=\"Clones and Droids\"/></span>, <span class=\"px-1\"><img alt=\"Light\" class=\"d-inline-block\" src=\"/Content/Images/Icons/L.png\" style=\"width:1rem;height:auto;\" title=\"Light\"/></span>, <span class=\"px-1\"><img alt=\"L\" class=\"d-inline-block\" src=\"/Content/Images/Icons/L.png\" style=\"width:1rem;height:auto;\" title=\"L\"/></span>, <span class=\"px-1\"><img alt=\"CAD\" class=\"d-inline-block\" src=\"/Content/Images/Icons/CAD.png\" style=\"width:1rem;height:auto;\" title=\"CAD\"/></span>, <span class=\"px-1\"><img alt=\"Clones and Droids\" class=\"d-inline-block\" src=\"/Content/Images/Icons/CAD.png\" style=\"width:1rem;height:auto;\" title=\"Clones and Droids\"/></span>, <span class=\"px-1\"><img alt=\"Light\" class=\"d-inline-block\" src=\"/Content/Images/Icons/L.png\" style=\"width:1rem;height:auto;\" title=\"Light\"/></span>]\n",
      "40\n"
     ]
    },
    {
     "ename": "IndexError",
     "evalue": "list index out of range",
     "output_type": "error",
     "traceback": [
      "\u001b[1;31m---------------------------------------------------------------------------\u001b[0m",
      "\u001b[1;31mIndexError\u001b[0m                                Traceback (most recent call last)",
      "\u001b[1;32md:\\Workspace\\python-topics\\WebScraping\\trading-cards-scraping\\trading_card_scraping.ipynb Cell 4\u001b[0m in \u001b[0;36m<cell line: 3>\u001b[1;34m()\u001b[0m\n\u001b[0;32m     <a href='vscode-notebook-cell:/d%3A/Workspace/python-topics/WebScraping/trading-cards-scraping/trading_card_scraping.ipynb#X56sZmlsZQ%3D%3D?line=23'>24</a>\u001b[0m         side\u001b[39m.\u001b[39mappend(test[i]\u001b[39m.\u001b[39mfind(\u001b[39m'\u001b[39m\u001b[39mimg\u001b[39m\u001b[39m'\u001b[39m)[\u001b[39m'\u001b[39m\u001b[39malt\u001b[39m\u001b[39m'\u001b[39m])\n\u001b[0;32m     <a href='vscode-notebook-cell:/d%3A/Workspace/python-topics/WebScraping/trading-cards-scraping/trading_card_scraping.ipynb#X56sZmlsZQ%3D%3D?line=24'>25</a>\u001b[0m     \u001b[39melse\u001b[39;00m:\n\u001b[1;32m---> <a href='vscode-notebook-cell:/d%3A/Workspace/python-topics/WebScraping/trading-cards-scraping/trading_card_scraping.ipynb#X56sZmlsZQ%3D%3D?line=25'>26</a>\u001b[0m         expansion\u001b[39m.\u001b[39mappend(test[i]\u001b[39m.\u001b[39mfind(\u001b[39m'\u001b[39m\u001b[39mimg\u001b[39m\u001b[39m'\u001b[39m)[\u001b[39m'\u001b[39m\u001b[39malt\u001b[39m\u001b[39m'\u001b[39m])\n\u001b[0;32m     <a href='vscode-notebook-cell:/d%3A/Workspace/python-topics/WebScraping/trading-cards-scraping/trading_card_scraping.ipynb#X56sZmlsZQ%3D%3D?line=27'>28</a>\u001b[0m df[\u001b[39m'\u001b[39m\u001b[39mSide\u001b[39m\u001b[39m'\u001b[39m] \u001b[39m=\u001b[39m pd\u001b[39m.\u001b[39mSeries(side)\n\u001b[0;32m     <a href='vscode-notebook-cell:/d%3A/Workspace/python-topics/WebScraping/trading-cards-scraping/trading_card_scraping.ipynb#X56sZmlsZQ%3D%3D?line=28'>29</a>\u001b[0m df[\u001b[39m'\u001b[39m\u001b[39mExpansion\u001b[39m\u001b[39m'\u001b[39m] \u001b[39m=\u001b[39m pd\u001b[39m.\u001b[39mSeries(expansion)\n",
      "\u001b[1;31mIndexError\u001b[0m: list index out of range"
     ]
    }
   ],
   "source": [
    "df_all = pd.DataFrame()\n",
    "\n",
    "for i in range(1,842):\n",
    "    url = f\"https://swtcg.com/Cards?page={i}\"\n",
    "    req = requests.get(url)\n",
    "\n",
    "    #get data\n",
    "    soup = BeautifulSoup(req.text, 'html.parser')\n",
    "    conten = soup.find('table', {'id': 'MVCGridTable_CardGrid'})\n",
    "    df = pd.read_html(str(conten))[0]\n",
    "\n",
    "\n",
    "    #get bug data\n",
    "    null = conten.find_all('span', {'class':'px-1'})\n",
    "    side = []\n",
    "    expansion = []\n",
    "\n",
    "    print(null)\n",
    "\n",
    "    for idx, i in enumerate(range(0, len(null), 2)):\n",
    "        if idx % 2:\n",
    "            side.append(test[i].find('img')['alt'])\n",
    "        else:\n",
    "            expansion.append(test[i].find('img')['alt'])\n",
    "\n",
    "    df['Side'] = pd.Series(side)\n",
    "    df['Expansion'] = pd.Series(expansion)\n",
    "\n",
    "    #get card link\n",
    "    conten = soup.find_all('a', {'class': 'btn btn-secondary btn-xs tooltip tooltipstered'})\n",
    "\n",
    "    link_list = []\n",
    "    for i in conten:\n",
    "        link = i['data-tooltip-content']\n",
    "        lower = link.find(\"data-srcset\")\n",
    "        upper = link.find(\"type\")\n",
    "\n",
    "        link = link[lower:upper].replace(\"data-srcset\", \"\")\n",
    "        link = link.replace(\"='\", \"\")\n",
    "        link = link.replace(\"' \", \"\")\n",
    "        link = link.replace(\"webp\", \"jpg\")\n",
    "\n",
    "        base_link = f\"https://swtcg.com{link}\"\n",
    "        link_list.append(base_link)\n",
    "\n",
    "    df['Unnamed: 10'] = pd.Series(link_list)\n",
    "\n",
    "    df_all = pd.concat([df_all, df])\n",
    "\n",
    "df_all.rename(columns = {'Unnamed: 6':'Cost', 'Unnamed: 7':'Speed', 'Unnamed: 8':'Power', 'Unnamed: 9':'Health', 'Unnamed: 10':'Image'}, inplace = True)\n",
    "df_all['Name'] = df_all['Name'].str.replace(\" B R\",\"\")\n",
    "df_all.reset_index(drop=True, inplace=True)"
   ]
  },
  {
   "cell_type": "code",
   "execution_count": null,
   "metadata": {},
   "outputs": [],
   "source": []
  }
 ],
 "metadata": {
  "kernelspec": {
   "display_name": "base",
   "language": "python",
   "name": "python3"
  },
  "language_info": {
   "codemirror_mode": {
    "name": "ipython",
    "version": 3
   },
   "file_extension": ".py",
   "mimetype": "text/x-python",
   "name": "python",
   "nbconvert_exporter": "python",
   "pygments_lexer": "ipython3",
   "version": "3.9.12"
  },
  "orig_nbformat": 4
 },
 "nbformat": 4,
 "nbformat_minor": 2
}
